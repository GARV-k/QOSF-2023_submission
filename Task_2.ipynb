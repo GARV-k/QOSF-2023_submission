{
  "nbformat": 4,
  "nbformat_minor": 0,
  "metadata": {
    "colab": {
      "provenance": []
    },
    "kernelspec": {
      "name": "python3",
      "display_name": "Python 3"
    },
    "language_info": {
      "name": "python"
    }
  },
  "cells": [
    {
      "cell_type": "code",
      "execution_count": 25,
      "metadata": {
        "colab": {
          "base_uri": "https://localhost:8080/",
          "height": 0
        },
        "id": "i-jPq_bvoDYM",
        "outputId": "27f52414-b8f1-4927-ef12-7f5673e9e142"
      },
      "outputs": [
        {
          "output_type": "stream",
          "name": "stdout",
          "text": [
            "Requirement already satisfied: qiskit in /usr/local/lib/python3.10/dist-packages (0.44.2)\n",
            "Requirement already satisfied: qiskit-terra==0.25.2.1 in /usr/local/lib/python3.10/dist-packages (from qiskit) (0.25.2.1)\n",
            "Requirement already satisfied: rustworkx>=0.13.0 in /usr/local/lib/python3.10/dist-packages (from qiskit-terra==0.25.2.1->qiskit) (0.13.2)\n",
            "Requirement already satisfied: numpy>=1.17 in /usr/local/lib/python3.10/dist-packages (from qiskit-terra==0.25.2.1->qiskit) (1.23.5)\n",
            "Requirement already satisfied: ply>=3.10 in /usr/local/lib/python3.10/dist-packages (from qiskit-terra==0.25.2.1->qiskit) (3.11)\n",
            "Requirement already satisfied: psutil>=5 in /usr/local/lib/python3.10/dist-packages (from qiskit-terra==0.25.2.1->qiskit) (5.9.5)\n",
            "Requirement already satisfied: scipy>=1.5 in /usr/local/lib/python3.10/dist-packages (from qiskit-terra==0.25.2.1->qiskit) (1.11.3)\n",
            "Requirement already satisfied: sympy>=1.3 in /usr/local/lib/python3.10/dist-packages (from qiskit-terra==0.25.2.1->qiskit) (1.12)\n",
            "Requirement already satisfied: dill>=0.3 in /usr/local/lib/python3.10/dist-packages (from qiskit-terra==0.25.2.1->qiskit) (0.3.7)\n",
            "Requirement already satisfied: python-dateutil>=2.8.0 in /usr/local/lib/python3.10/dist-packages (from qiskit-terra==0.25.2.1->qiskit) (2.8.2)\n",
            "Requirement already satisfied: stevedore>=3.0.0 in /usr/local/lib/python3.10/dist-packages (from qiskit-terra==0.25.2.1->qiskit) (5.1.0)\n",
            "Requirement already satisfied: symengine<0.10,>=0.9 in /usr/local/lib/python3.10/dist-packages (from qiskit-terra==0.25.2.1->qiskit) (0.9.2)\n",
            "Requirement already satisfied: typing-extensions in /usr/local/lib/python3.10/dist-packages (from qiskit-terra==0.25.2.1->qiskit) (4.5.0)\n",
            "Requirement already satisfied: six>=1.5 in /usr/local/lib/python3.10/dist-packages (from python-dateutil>=2.8.0->qiskit-terra==0.25.2.1->qiskit) (1.16.0)\n",
            "Requirement already satisfied: pbr!=2.1.0,>=2.0.0 in /usr/local/lib/python3.10/dist-packages (from stevedore>=3.0.0->qiskit-terra==0.25.2.1->qiskit) (5.11.1)\n",
            "Requirement already satisfied: mpmath>=0.19 in /usr/local/lib/python3.10/dist-packages (from sympy>=1.3->qiskit-terra==0.25.2.1->qiskit) (1.3.0)\n"
          ]
        }
      ],
      "source": [
        "!pip install qiskit"
      ]
    },
    {
      "cell_type": "code",
      "source": [
        "!pip show qiskit"
      ],
      "metadata": {
        "colab": {
          "base_uri": "https://localhost:8080/",
          "height": 0
        },
        "id": "EUDW3ayroH8y",
        "outputId": "28a33e63-187f-47f9-e6b5-fd0fe91f4aac"
      },
      "execution_count": 26,
      "outputs": [
        {
          "output_type": "stream",
          "name": "stdout",
          "text": [
            "Name: qiskit\n",
            "Version: 0.44.2\n",
            "Summary: Software for developing quantum computing programs\n",
            "Home-page: https://qiskit.org/\n",
            "Author: Qiskit Development Team\n",
            "Author-email: hello@qiskit.org\n",
            "License: Apache 2.0\n",
            "Location: /usr/local/lib/python3.10/dist-packages\n",
            "Requires: qiskit-terra\n",
            "Required-by: \n"
          ]
        }
      ]
    },
    {
      "cell_type": "code",
      "source": [
        "from qiskit import QuantumCircuit, QuantumRegister, Aer, transpile\n",
        "from qiskit.quantum_info.operators import Operator\n",
        "import numpy as np"
      ],
      "metadata": {
        "id": "ArOM1bFsoTiR"
      },
      "execution_count": 27,
      "outputs": []
    },
    {
      "cell_type": "code",
      "source": [
        "from qiskit.algorithms import AmplificationProblem, Grover\n",
        "from qiskit.quantum_info import Statevector\n",
        "from qiskit.primitives import Sampler"
      ],
      "metadata": {
        "id": "oQJEBJw6oWiZ"
      },
      "execution_count": 28,
      "outputs": []
    },
    {
      "cell_type": "code",
      "source": [
        "!pip install qiskit-aer"
      ],
      "metadata": {
        "colab": {
          "base_uri": "https://localhost:8080/",
          "height": 0
        },
        "id": "ULeVtIUGwQvk",
        "outputId": "b05a99cb-d755-4162-f759-d1a69d32d1ba"
      },
      "execution_count": 34,
      "outputs": [
        {
          "output_type": "stream",
          "name": "stdout",
          "text": [
            "Collecting qiskit-aer\n",
            "  Downloading qiskit_aer-0.12.2-cp310-cp310-manylinux_2_17_x86_64.manylinux2014_x86_64.whl (12.8 MB)\n",
            "\u001b[2K     \u001b[90m━━━━━━━━━━━━━━━━━━━━━━━━━━━━━━━━━━━━━━━\u001b[0m \u001b[32m12.8/12.8 MB\u001b[0m \u001b[31m121.9 MB/s\u001b[0m eta \u001b[36m0:00:00\u001b[0m\n",
            "\u001b[?25hRequirement already satisfied: qiskit-terra>=0.21.0 in /usr/local/lib/python3.10/dist-packages (from qiskit-aer) (0.25.2.1)\n",
            "Requirement already satisfied: numpy>=1.16.3 in /usr/local/lib/python3.10/dist-packages (from qiskit-aer) (1.23.5)\n",
            "Requirement already satisfied: scipy>=1.0 in /usr/local/lib/python3.10/dist-packages (from qiskit-aer) (1.11.3)\n",
            "Requirement already satisfied: rustworkx>=0.13.0 in /usr/local/lib/python3.10/dist-packages (from qiskit-terra>=0.21.0->qiskit-aer) (0.13.2)\n",
            "Requirement already satisfied: ply>=3.10 in /usr/local/lib/python3.10/dist-packages (from qiskit-terra>=0.21.0->qiskit-aer) (3.11)\n",
            "Requirement already satisfied: psutil>=5 in /usr/local/lib/python3.10/dist-packages (from qiskit-terra>=0.21.0->qiskit-aer) (5.9.5)\n",
            "Requirement already satisfied: sympy>=1.3 in /usr/local/lib/python3.10/dist-packages (from qiskit-terra>=0.21.0->qiskit-aer) (1.12)\n",
            "Requirement already satisfied: dill>=0.3 in /usr/local/lib/python3.10/dist-packages (from qiskit-terra>=0.21.0->qiskit-aer) (0.3.7)\n",
            "Requirement already satisfied: python-dateutil>=2.8.0 in /usr/local/lib/python3.10/dist-packages (from qiskit-terra>=0.21.0->qiskit-aer) (2.8.2)\n",
            "Requirement already satisfied: stevedore>=3.0.0 in /usr/local/lib/python3.10/dist-packages (from qiskit-terra>=0.21.0->qiskit-aer) (5.1.0)\n",
            "Requirement already satisfied: symengine<0.10,>=0.9 in /usr/local/lib/python3.10/dist-packages (from qiskit-terra>=0.21.0->qiskit-aer) (0.9.2)\n",
            "Requirement already satisfied: typing-extensions in /usr/local/lib/python3.10/dist-packages (from qiskit-terra>=0.21.0->qiskit-aer) (4.5.0)\n",
            "Requirement already satisfied: six>=1.5 in /usr/local/lib/python3.10/dist-packages (from python-dateutil>=2.8.0->qiskit-terra>=0.21.0->qiskit-aer) (1.16.0)\n",
            "Requirement already satisfied: pbr!=2.1.0,>=2.0.0 in /usr/local/lib/python3.10/dist-packages (from stevedore>=3.0.0->qiskit-terra>=0.21.0->qiskit-aer) (5.11.1)\n",
            "Requirement already satisfied: mpmath>=0.19 in /usr/local/lib/python3.10/dist-packages (from sympy>=1.3->qiskit-terra>=0.21.0->qiskit-aer) (1.3.0)\n",
            "Installing collected packages: qiskit-aer\n",
            "Successfully installed qiskit-aer-0.12.2\n"
          ]
        }
      ]
    },
    {
      "cell_type": "code",
      "source": [
        "def abs_list(ls):\n",
        "  new_ls = [0]*len(ls)\n",
        "  for i in range(len(ls)):\n",
        "    new_ls[i] = abs(ls[i])\n",
        "  return new_ls"
      ],
      "metadata": {
        "id": "-fibnTRHum5C"
      },
      "execution_count": 47,
      "outputs": []
    },
    {
      "cell_type": "code",
      "source": [
        "\"\"\"\n",
        "    We are creating a custom oracle that has only one solution state, which is\n",
        "    determined by a minimum number. To accomplish this, we can utilize an Operator\n",
        "    class that allows us to abstract away from the specific implementation of the\n",
        "    gate used to mark the desired solution state.\n",
        "\"\"\"\n",
        "def create_oracle(nqubits: int, min_number: int):\n",
        "    qr = QuantumRegister(nqubits)\n",
        "    qc = QuantumCircuit(qr, name='Oracle(max)')\n",
        "\n",
        "    gate_matrix = np.eye(2 ** nqubits, dtype=int)\n",
        "    i=abs(min_number)\n",
        "    gate_matrix[i][i] = -1\n",
        "\n",
        "    min_operator = Operator(gate_matrix)\n",
        "    qc.unitary(min_operator, range(nqubits))\n",
        "\n",
        "    return qc.to_instruction()\n",
        "\n",
        "def create_diffuser(nqubits: int):\n",
        "    qr = QuantumRegister(nqubits)\n",
        "    qc = QuantumCircuit(qr, name='Diffuser')\n",
        "\n",
        "    for qubit in range(nqubits):\n",
        "        qc.h(qubit)\n",
        "    for qubit in range(nqubits):\n",
        "        qc.x(qubit)\n",
        "    qc.barrier(range(nqubits))\n",
        "    qc.h(nqubits-1)\n",
        "    qc.mct(list(range(nqubits-1)), nqubits-1)\n",
        "    qc.h(nqubits-1)\n",
        "    qc.barrier(range(nqubits))\n",
        "    for qubit in range(nqubits):\n",
        "        qc.x(qubit)\n",
        "    for qubit in range(nqubits):\n",
        "        qc.h(qubit)\n",
        "\n",
        "    return qc.to_instruction()\n",
        "\n",
        "def find_the_smallest_number(list_of_numbers):\n",
        "    list_of_numbers = tuple(list_of_numbers)\n",
        "    min_number = min(list_of_numbers)\n",
        "    abs_ls = abs_list(list_of_numbers)\n",
        "    nqubits = max(max(abs_ls).bit_length(), 2)\n",
        "    nstates = 2 ** nqubits\n",
        "\n",
        "    qc = QuantumCircuit(nqubits)\n",
        "\n",
        "    for i in range(nqubits):\n",
        "        qc.h(i)\n",
        "\n",
        "    niterations = int(np.floor(np.pi/4 * np.sqrt(nstates)))\n",
        "    for i in range(niterations):\n",
        "        qc.append(create_oracle(nqubits, min_number), range(nqubits))\n",
        "        qc.append(create_diffuser(nqubits), range(nqubits))\n",
        "\n",
        "    qc.measure_all()\n",
        "    qc.draw()\n",
        "    aer_sim = Aer.get_backend('aer_simulator')\n",
        "    compiled_circuit = transpile(qc, aer_sim)\n",
        "    result = aer_sim.run(compiled_circuit).result()\n",
        "    counts = result.get_counts()\n",
        "    min_candidate = int(max(counts, key=counts.get), 2)\n",
        "\n",
        "    if abs(min_number) == min_candidate:\n",
        "        return min_number\n",
        "    else:\n",
        "        return None\n",
        "def find_negative_numbers(list_of_numbers):\n",
        "  min_number = find_the_smallest_number(list_of_numbers)\n",
        "  print(min_number<0)"
      ],
      "metadata": {
        "id": "POWv4ifHpU2N"
      },
      "execution_count": 48,
      "outputs": []
    },
    {
      "cell_type": "code",
      "source": [
        "find_the_smallest_number([5,-6,-77,8,9])"
      ],
      "metadata": {
        "colab": {
          "base_uri": "https://localhost:8080/",
          "height": 0
        },
        "id": "GFNQ64wyp848",
        "outputId": "f84cea29-d277-43e1-82a9-8d80df29189f"
      },
      "execution_count": 49,
      "outputs": [
        {
          "output_type": "execute_result",
          "data": {
            "text/plain": [
              "-77"
            ]
          },
          "metadata": {},
          "execution_count": 49
        }
      ]
    },
    {
      "cell_type": "code",
      "source": [
        "find_negative_numbers([5,-6,-77,8,9])"
      ],
      "metadata": {
        "colab": {
          "base_uri": "https://localhost:8080/",
          "height": 0
        },
        "id": "ZGVKU9Kkt0bP",
        "outputId": "a0390eb5-6bbf-4196-fb47-4a11033d93f6"
      },
      "execution_count": 50,
      "outputs": [
        {
          "output_type": "stream",
          "name": "stdout",
          "text": [
            "True\n"
          ]
        }
      ]
    },
    {
      "cell_type": "code",
      "source": [],
      "metadata": {
        "id": "SCp0sMFfwpwd"
      },
      "execution_count": null,
      "outputs": []
    }
  ]
}